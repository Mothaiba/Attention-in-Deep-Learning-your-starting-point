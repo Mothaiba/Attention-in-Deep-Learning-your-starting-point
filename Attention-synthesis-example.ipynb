{
 "cells": [
  {
   "cell_type": "code",
   "execution_count": 1,
   "metadata": {},
   "outputs": [],
   "source": [
    "import torch\n",
    "import torch.nn as nn\n",
    "import torch.nn.functional as F\n",
    "import torch.optim as optim\n",
    "\n",
    "import numpy as np\n",
    "\n",
    "import matplotlib.pyplot as plt\n",
    "from tqdm import tqdm"
   ]
  },
  {
   "cell_type": "markdown",
   "metadata": {},
   "source": [
    "# Prepare a synthesis dataset"
   ]
  },
  {
   "cell_type": "code",
   "execution_count": 2,
   "metadata": {},
   "outputs": [],
   "source": [
    "INPUT_SIZE = 10000"
   ]
  },
  {
   "cell_type": "code",
   "execution_count": 3,
   "metadata": {},
   "outputs": [
    {
     "data": {
      "text/plain": [
       "tensor([[0.0396, 0.5288, 0.6404,  ..., 0.6606, 0.3656, 0.4164],\n",
       "        [0.3959, 0.9261, 0.6063,  ..., 0.8144, 0.0909, 0.5241],\n",
       "        [0.2511, 0.9124, 0.3685,  ..., 0.9922, 0.3354, 0.3649],\n",
       "        ...,\n",
       "        [0.9113, 0.9403, 0.9050,  ..., 0.2598, 0.9585, 0.5711],\n",
       "        [0.0700, 0.3020, 0.1705,  ..., 0.9019, 0.6353, 0.7448],\n",
       "        [0.2294, 0.1872, 0.3880,  ..., 0.9503, 0.7611, 0.6281]])"
      ]
     },
     "metadata": {},
     "output_type": "display_data"
    },
    {
     "name": "stdout",
     "output_type": "stream",
     "text": [
      "input shape: torch.Size([10000, 8])\n"
     ]
    }
   ],
   "source": [
    "SEQ_LEN = 8\n",
    "inputs = torch.rand((INPUT_SIZE, SEQ_LEN))\n",
    "display(inputs)\n",
    "print(f'input shape: {inputs.shape}')"
   ]
  },
  {
   "cell_type": "code",
   "execution_count": 4,
   "metadata": {},
   "outputs": [
    {
     "data": {
      "text/plain": [
       "tensor([[1],\n",
       "        [3],\n",
       "        [3],\n",
       "        ...,\n",
       "        [4],\n",
       "        [4],\n",
       "        [4]])"
      ]
     },
     "metadata": {},
     "output_type": "display_data"
    },
    {
     "name": "stdout",
     "output_type": "stream",
     "text": [
      "context shape: torch.Size([10000, 1])\n"
     ]
    }
   ],
   "source": [
    "N_CONTEXTS = 5\n",
    "context = torch.randint(\n",
    "    low=0, high=N_CONTEXTS, size=(INPUT_SIZE, 1)\n",
    ")\n",
    "display(context)\n",
    "print(f'context shape: {context.shape}')"
   ]
  },
  {
   "cell_type": "markdown",
   "metadata": {},
   "source": [
    "For if the context of the i-th observation is $c_i$, then the ground true is: $outputs^{(i)} = inputs^{(i)}[\\text{true_attention}[c_i]]$"
   ]
  },
  {
   "cell_type": "code",
   "execution_count": 5,
   "metadata": {},
   "outputs": [
    {
     "data": {
      "text/plain": [
       "{0: 2, 1: 7, 2: 3, 3: 5, 4: 1}"
      ]
     },
     "execution_count": 5,
     "metadata": {},
     "output_type": "execute_result"
    }
   ],
   "source": [
    "true_attention = {\n",
    "    0:2,\n",
    "    1:7,\n",
    "    2:3,\n",
    "    3:5,\n",
    "    4:1\n",
    "}\n",
    "true_attention"
   ]
  },
  {
   "cell_type": "code",
   "execution_count": 6,
   "metadata": {},
   "outputs": [
    {
     "data": {
      "text/plain": [
       "tensor([0.4164, 0.8144, 0.9922,  ..., 0.9403, 0.3020, 0.1872])"
      ]
     },
     "metadata": {},
     "output_type": "display_data"
    },
    {
     "name": "stdout",
     "output_type": "stream",
     "text": [
      "output shape: torch.Size([10000])\n"
     ]
    }
   ],
   "source": [
    "outputs = torch.tensor([\n",
    "    inputs[i, true_attention[context[i].item()]] \n",
    "    for i in range(INPUT_SIZE)\n",
    "])\n",
    "display(outputs)\n",
    "print(f'output shape: {outputs.shape}')"
   ]
  },
  {
   "cell_type": "markdown",
   "metadata": {},
   "source": [
    "# Train an Attention network"
   ]
  },
  {
   "cell_type": "code",
   "execution_count": 7,
   "metadata": {},
   "outputs": [],
   "source": [
    "class AttentionNetwork(nn.Module):\n",
    "    def __init__(self):\n",
    "        super(AttentionNetwork, self).__init__()\n",
    "        self.context_embed = nn.Embedding(N_CONTEXTS, SEQ_LEN)\n",
    "        self.linear = nn.Linear(SEQ_LEN, 1)\n",
    "    \n",
    "    def forward(self, x, c): # x is input (feature), c is context\n",
    "        a = self.context_embed(c)\n",
    "        x = x * a # element-wise multiplication\n",
    "        x = self.linear(x)\n",
    "        return x\n",
    "    \n",
    "    def get_attention(self, c):\n",
    "        a = self.context_embed(c)\n",
    "        return a\n",
    "\n",
    "model = AttentionNetwork()\n",
    "criterion = nn.MSELoss()\n",
    "optimizer = optim.Adam(model.parameters())"
   ]
  },
  {
   "cell_type": "code",
   "execution_count": 8,
   "metadata": {},
   "outputs": [
    {
     "name": "stderr",
     "output_type": "stream",
     "text": [
      "100%|██████████| 10000/10000 [00:04<00:00, 2008.45it/s]\n",
      "  4%|▍         | 409/10000 [00:00<00:04, 2053.81it/s]"
     ]
    },
    {
     "name": "stdout",
     "output_type": "stream",
     "text": [
      "epoch 0: MSE = 0.0529509\n"
     ]
    },
    {
     "name": "stderr",
     "output_type": "stream",
     "text": [
      "100%|██████████| 10000/10000 [00:05<00:00, 1979.56it/s]\n",
      "  2%|▏         | 178/10000 [00:00<00:05, 1776.37it/s]"
     ]
    },
    {
     "name": "stdout",
     "output_type": "stream",
     "text": [
      "epoch 1: MSE = 0.0029285\n"
     ]
    },
    {
     "name": "stderr",
     "output_type": "stream",
     "text": [
      "100%|██████████| 10000/10000 [00:05<00:00, 1942.93it/s]\n",
      "  2%|▏         | 205/10000 [00:00<00:04, 2043.52it/s]"
     ]
    },
    {
     "name": "stdout",
     "output_type": "stream",
     "text": [
      "epoch 2: MSE = 0.0000126\n"
     ]
    },
    {
     "name": "stderr",
     "output_type": "stream",
     "text": [
      "100%|██████████| 10000/10000 [00:05<00:00, 1992.96it/s]"
     ]
    },
    {
     "name": "stdout",
     "output_type": "stream",
     "text": [
      "epoch 3: MSE = 0.0000125\n"
     ]
    },
    {
     "name": "stderr",
     "output_type": "stream",
     "text": [
      "\n"
     ]
    }
   ],
   "source": [
    "model.train()\n",
    "for epoch in range(4):\n",
    "    losses = []\n",
    "    for i in tqdm(range(INPUT_SIZE)):\n",
    "        inp = inputs[i]\n",
    "        c = context[i]\n",
    "\n",
    "        optimizer.zero_grad()\n",
    "        pred = model(inp, c).squeeze()\n",
    "        loss = criterion(pred, outputs[i])\n",
    "        loss.backward()\n",
    "        optimizer.step()\n",
    "        losses.append(loss.item())\n",
    "    \n",
    "    print(f'epoch {epoch}: MSE = {np.mean(losses):.7f}')"
   ]
  },
  {
   "cell_type": "code",
   "execution_count": 9,
   "metadata": {},
   "outputs": [
    {
     "data": {
      "image/png": "[encoded data removed]",
      "text/plain": [
       "<Figure size 1080x720 with 5 Axes>"
      ]
     },
     "metadata": {
      "needs_background": "light"
     },
     "output_type": "display_data"
    }
   ],
   "source": [
    "model.eval()\n",
    "fig, ax = plt.subplots(N_CONTEXTS, figsize=(15, 10))\n",
    "for c in range(N_CONTEXTS):\n",
    "    true_att_index = np.zeros(SEQ_LEN)\n",
    "    true_att_index[true_attention[c]] = 1\n",
    "    ax[c].bar(range(SEQ_LEN),true_att_index, color='green')\n",
    "    \n",
    "    computed_attention = model.get_attention(torch.tensor(c)).detach().abs()\n",
    "    computed_attention /= computed_attention.sum()\n",
    "    ax[c].bar(range(SEQ_LEN), computed_attention, color='orange')"
   ]
  },
  {
   "cell_type": "code",
   "execution_count": null,
   "metadata": {},
   "outputs": [],
   "source": []
  }
 ],
 "metadata": {
  "kernelspec": {
   "display_name": "Python 3",
   "language": "python",
   "name": "python3"
  },
  "language_info": {
   "codemirror_mode": {
    "name": "ipython",
    "version": 3
   },
   "file_extension": ".py",
   "mimetype": "text/x-python",
   "name": "python",
   "nbconvert_exporter": "python",
   "pygments_lexer": "ipython3",
   "version": "3.8.3"
  }
 },
 "nbformat": 4,
 "nbformat_minor": 4
}
